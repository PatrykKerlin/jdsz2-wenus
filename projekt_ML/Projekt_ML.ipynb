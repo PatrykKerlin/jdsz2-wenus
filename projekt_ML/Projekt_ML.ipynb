{
 "cells": [
  {
   "cell_type": "code",
   "execution_count": 2,
   "metadata": {},
   "outputs": [],
   "source": [
    "import pandas as pd\n",
    "import numpy as np\n",
    "\n",
    "from sklearn.model_selection import train_test_split\n",
    "from sklearn.linear_model import LinearRegression\n",
    "from sklearn.svm import SVR\n",
    "from sklearn.ensemble import RandomForestRegressor\n",
    "from sklearn.tree import DecisionTreeRegressor\n",
    "\n",
    "import xgboost as xg\n",
    "from sklearn.model_selection import KFold, cross_val_score\n",
    "from sklearn.metrics import accuracy_score\n",
    "from sklearn.metrics import mean_absolute_error\n",
    "from sklearn.metrics import make_scorer,mean_squared_error\n",
    "from sklearn.preprocessing import StandardScaler, LabelEncoder\n",
    "        \n",
    "import matplotlib.pyplot as plt\n",
    "import seaborn as sns\n",
    "\n",
    "import itertools\n",
    "import patsy\n",
    "import pickle\n"
   ]
  },
  {
   "cell_type": "markdown",
   "metadata": {},
   "source": [
    "### Wczytaj dane - w naszym przypadku dane o ślimakach"
   ]
  },
  {
   "cell_type": "code",
   "execution_count": 3,
   "metadata": {},
   "outputs": [],
   "source": [
    "df = pd.read_csv('dane_slimak.csv', encoding = 'utf-8', delim_whitespace=True)"
   ]
  },
  {
   "cell_type": "markdown",
   "metadata": {},
   "source": [
    "**Zawartoś bazy**"
   ]
  },
  {
   "cell_type": "code",
   "execution_count": 4,
   "metadata": {},
   "outputs": [
    {
     "data": {
      "text/html": [
       "<div>\n",
       "<style scoped>\n",
       "    .dataframe tbody tr th:only-of-type {\n",
       "        vertical-align: middle;\n",
       "    }\n",
       "\n",
       "    .dataframe tbody tr th {\n",
       "        vertical-align: top;\n",
       "    }\n",
       "\n",
       "    .dataframe thead th {\n",
       "        text-align: right;\n",
       "    }\n",
       "</style>\n",
       "<table border=\"1\" class=\"dataframe\">\n",
       "  <thead>\n",
       "    <tr style=\"text-align: right;\">\n",
       "      <th></th>\n",
       "      <th>Sex</th>\n",
       "      <th>Length</th>\n",
       "      <th>Diameter</th>\n",
       "      <th>Height</th>\n",
       "      <th>Whole weight</th>\n",
       "      <th>Shucked weight</th>\n",
       "      <th>Viscera weight</th>\n",
       "      <th>Shell weight</th>\n",
       "      <th>Rings</th>\n",
       "    </tr>\n",
       "  </thead>\n",
       "  <tbody>\n",
       "    <tr>\n",
       "      <th>0</th>\n",
       "      <td>M</td>\n",
       "      <td>0.455</td>\n",
       "      <td>0.365</td>\n",
       "      <td>0.095</td>\n",
       "      <td>0.5140</td>\n",
       "      <td>0.2245</td>\n",
       "      <td>0.1010</td>\n",
       "      <td>0.150</td>\n",
       "      <td>15</td>\n",
       "    </tr>\n",
       "    <tr>\n",
       "      <th>1</th>\n",
       "      <td>M</td>\n",
       "      <td>0.350</td>\n",
       "      <td>0.265</td>\n",
       "      <td>0.090</td>\n",
       "      <td>0.2255</td>\n",
       "      <td>0.0995</td>\n",
       "      <td>0.0485</td>\n",
       "      <td>0.070</td>\n",
       "      <td>7</td>\n",
       "    </tr>\n",
       "    <tr>\n",
       "      <th>2</th>\n",
       "      <td>F</td>\n",
       "      <td>0.530</td>\n",
       "      <td>0.420</td>\n",
       "      <td>0.135</td>\n",
       "      <td>0.6770</td>\n",
       "      <td>0.2565</td>\n",
       "      <td>0.1415</td>\n",
       "      <td>0.210</td>\n",
       "      <td>9</td>\n",
       "    </tr>\n",
       "    <tr>\n",
       "      <th>3</th>\n",
       "      <td>M</td>\n",
       "      <td>0.440</td>\n",
       "      <td>0.365</td>\n",
       "      <td>0.125</td>\n",
       "      <td>0.5160</td>\n",
       "      <td>0.2155</td>\n",
       "      <td>0.1140</td>\n",
       "      <td>0.155</td>\n",
       "      <td>10</td>\n",
       "    </tr>\n",
       "    <tr>\n",
       "      <th>4</th>\n",
       "      <td>I</td>\n",
       "      <td>0.330</td>\n",
       "      <td>0.255</td>\n",
       "      <td>0.080</td>\n",
       "      <td>0.2050</td>\n",
       "      <td>0.0895</td>\n",
       "      <td>0.0395</td>\n",
       "      <td>0.055</td>\n",
       "      <td>7</td>\n",
       "    </tr>\n",
       "  </tbody>\n",
       "</table>\n",
       "</div>"
      ],
      "text/plain": [
       "  Sex  Length  Diameter  Height  Whole weight  Shucked weight  Viscera weight  \\\n",
       "0   M   0.455     0.365   0.095        0.5140          0.2245          0.1010   \n",
       "1   M   0.350     0.265   0.090        0.2255          0.0995          0.0485   \n",
       "2   F   0.530     0.420   0.135        0.6770          0.2565          0.1415   \n",
       "3   M   0.440     0.365   0.125        0.5160          0.2155          0.1140   \n",
       "4   I   0.330     0.255   0.080        0.2050          0.0895          0.0395   \n",
       "\n",
       "   Shell weight  Rings  \n",
       "0         0.150     15  \n",
       "1         0.070      7  \n",
       "2         0.210      9  \n",
       "3         0.155     10  \n",
       "4         0.055      7  "
      ]
     },
     "execution_count": 4,
     "metadata": {},
     "output_type": "execute_result"
    }
   ],
   "source": [
    "df.head()"
   ]
  },
  {
   "cell_type": "code",
   "execution_count": 5,
   "metadata": {},
   "outputs": [
    {
     "name": "stdout",
     "output_type": "stream",
     "text": [
      "<class 'pandas.core.frame.DataFrame'>\n",
      "RangeIndex: 4177 entries, 0 to 4176\n",
      "Data columns (total 9 columns):\n",
      "Sex               4177 non-null object\n",
      "Length            4177 non-null float64\n",
      "Diameter          4177 non-null float64\n",
      "Height            4177 non-null float64\n",
      "Whole weight      4177 non-null float64\n",
      "Shucked weight    4177 non-null float64\n",
      "Viscera weight    4177 non-null float64\n",
      "Shell weight      4177 non-null float64\n",
      "Rings             4177 non-null int64\n",
      "dtypes: float64(7), int64(1), object(1)\n",
      "memory usage: 293.8+ KB\n"
     ]
    }
   ],
   "source": [
    "df.info()"
   ]
  },
  {
   "cell_type": "markdown",
   "metadata": {},
   "source": [
    "**Zamień wartości na wartości liczbowe. w naszym wypadku jest to tylko 1 kolumna <płeć>**"
   ]
  },
  {
   "cell_type": "code",
   "execution_count": 6,
   "metadata": {},
   "outputs": [],
   "source": [
    "df['Sex'].replace({'I': 2, 'F': 1, 'M': 0},inplace = True)"
   ]
  },
  {
   "cell_type": "code",
   "execution_count": 7,
   "metadata": {},
   "outputs": [
    {
     "name": "stdout",
     "output_type": "stream",
     "text": [
      "<class 'pandas.core.frame.DataFrame'>\n",
      "RangeIndex: 4177 entries, 0 to 4176\n",
      "Data columns (total 9 columns):\n",
      "Sex               4177 non-null int64\n",
      "Length            4177 non-null float64\n",
      "Diameter          4177 non-null float64\n",
      "Height            4177 non-null float64\n",
      "Whole weight      4177 non-null float64\n",
      "Shucked weight    4177 non-null float64\n",
      "Viscera weight    4177 non-null float64\n",
      "Shell weight      4177 non-null float64\n",
      "Rings             4177 non-null int64\n",
      "dtypes: float64(7), int64(2)\n",
      "memory usage: 293.8 KB\n"
     ]
    }
   ],
   "source": [
    "df.info()"
   ]
  },
  {
   "cell_type": "markdown",
   "metadata": {},
   "source": [
    "### Macierz korelacji"
   ]
  },
  {
   "cell_type": "code",
   "execution_count": 8,
   "metadata": {},
   "outputs": [
    {
     "data": {
      "text/plain": [
       "<matplotlib.axes._subplots.AxesSubplot at 0x1a172b1780>"
      ]
     },
     "execution_count": 8,
     "metadata": {},
     "output_type": "execute_result"
    },
    {
     "data": {
      "image/png": "[encoded data removed]",
      "text/plain": [
       "<Figure size 432x288 with 2 Axes>"
      ]
     },
     "metadata": {
      "needs_background": "light"
     },
     "output_type": "display_data"
    }
   ],
   "source": [
    "sns.heatmap(df.corr(), cmap = 'seismic', annot=True, fmt=\".2f\")"
   ]
  },
  {
   "cell_type": "markdown",
   "metadata": {},
   "source": [
    "### Prepare features and target"
   ]
  },
  {
   "cell_type": "code",
   "execution_count": 9,
   "metadata": {},
   "outputs": [],
   "source": [
    "columns_drop = ['Rings','Length']\n",
    "X = df.drop(columns=columns_drop, axis = 1)\n",
    "y = df['Rings']"
   ]
  },
  {
   "cell_type": "code",
   "execution_count": 10,
   "metadata": {},
   "outputs": [],
   "source": [
    "X_train, X_test, y_train, y_test = train_test_split(X, y, test_size=0.1, random_state = 100)\n",
    "X_train, X_val, y_train, y_val = train_test_split(X_train, y_train, test_size=0.1, random_state = 100)"
   ]
  },
  {
   "cell_type": "markdown",
   "metadata": {},
   "source": [
    "## Modele "
   ]
  },
  {
   "cell_type": "markdown",
   "metadata": {},
   "source": [
    "### Linear regression\n"
   ]
  },
  {
   "cell_type": "code",
   "execution_count": null,
   "metadata": {},
   "outputs": [],
   "source": [
    "clf_linear = LinearRegression()\n",
    "clf_linear.fit(X_train, y_train)\n",
    "accuracy_linear = clf_linear.score(X_val, y_val)\n",
    "y_pred_linear = clf_linear.predict(X_val)\n",
    "mae_linear = mean_absolute_error(y_val, y_pred_linear)"
   ]
  },
  {
   "cell_type": "markdown",
   "metadata": {},
   "source": [
    "### SVR"
   ]
  },
  {
   "cell_type": "code",
   "execution_count": null,
   "metadata": {},
   "outputs": [],
   "source": [
    "clf_SVR = SVR(gamma='scale', C=1.0, epsilon=0.2)\n",
    "clf_SVR.fit(X_train, y_train)\n",
    "y_pred_SVR = clf_SVR.predict(X_val)\n",
    "accuracy_SVR = clf_SVR.score( y_val,y_pred_SVR,)\n",
    "mae_SVR = mean_absolute_error(y_val, y_pred_SVR)"
   ]
  },
  {
   "cell_type": "markdown",
   "metadata": {},
   "source": [
    "### Random Forest Regressor"
   ]
  },
  {
   "cell_type": "code",
   "execution_count": null,
   "metadata": {},
   "outputs": [],
   "source": [
    "clf_RFC = RandomForestRegressor(n_estimators=10, max_depth=10, min_samples_leaf=2, random_state=100)\n",
    "clf_RFC.fit(X_train, y_train)\n",
    "y_pred_RFC = clf_RFC.predict(X_val)\n",
    "#accuracy_RFC = clf_RFC.score(y_val,y_pred_RFC)\n",
    "mae_RFC = mean_absolute_error(y_val, y_pred_RFC)"
   ]
  },
  {
   "cell_type": "markdown",
   "metadata": {},
   "source": [
    "### XGBoost"
   ]
  },
  {
   "cell_type": "code",
   "execution_count": 11,
   "metadata": {},
   "outputs": [],
   "source": [
    "clf_XGB = xg.XGBRegressor()\n",
    "clf_XGB.fit(X_train, y_train)\n",
    "y_pred_XGB = clf_XGB.predict(X_val)\n",
    "#accuracy_XGB = clf_XGB.score(y_val,y_pred_XGB)\n",
    "mae_XGB = mean_absolute_error(y_val, y_pred_XGB)"
   ]
  },
  {
   "cell_type": "code",
   "execution_count": 12,
   "metadata": {},
   "outputs": [
    {
     "name": "stdout",
     "output_type": "stream",
     "text": [
      "0/6\n",
      "1/6\n",
      "2/6\n",
      "3/6\n",
      "4/6\n",
      "5/6\n"
     ]
    }
   ],
   "source": [
    "mds = np.arange(3,5)\n",
    "lrs = np.arange(0.05,0.35,0.10)\n",
    "n_splits = 20\n",
    "params = list(itertools.product(mds,lrs))\n",
    "n= len(params)\n",
    "\n",
    "data = {\"max depth\" : [], \"learning_rate\" :[],\"mean_squared_error\":[]}\n",
    "\n",
    "for i, (md,lr) in enumerate(params):\n",
    "    model = xg.XGBRegressor(max_depth=md,learning_rate=lr)\n",
    "    cv = KFold(n_splits=n_splits)\n",
    "    scorer = make_scorer(mean_squared_error)\n",
    "    cv_result = cross_val_score(model,X_train,y_train,cv=cv,scoring=scorer)\n",
    "\n",
    "    data[\"mean_squared_error\"].extend(cv_result)\n",
    "    data[\"max depth\"].extend([md]*n_splits)\n",
    "    data[\"learning_rate\"].extend([lr]*n_splits)\n",
    "\n",
    "    print(\"{}/{}\".format(i,n))\n",
    "\n",
    "df = pd.DataFrame(data=data)\n",
    "min_error = df[\"mean_squared_error\"].min()\n",
    "max_error = df[\"mean_squared_error\"].max()\n",
    "\n",
    "out = {\n",
    "    \"min_error\":min_error,\n",
    "    \"max_error\" : max_error,\n",
    "    \"df\":df\n",
    "}"
   ]
  },
  {
   "cell_type": "code",
   "execution_count": 21,
   "metadata": {},
   "outputs": [
    {
     "name": "stdout",
     "output_type": "stream",
     "text": [
      "{'min_error': 3.4318765430468305, 'max_error': 6.517264528241883, 'df':      max depth  learning_rate  mean_squared_error\n",
      "0            3           0.05            6.210887\n",
      "1            3           0.05            4.123911\n",
      "2            3           0.05            6.028601\n",
      "3            3           0.05            4.331790\n",
      "4            3           0.05            4.109387\n",
      "5            3           0.05            5.064005\n",
      "6            3           0.05            5.471036\n",
      "7            3           0.05            4.787739\n",
      "8            3           0.05            4.447524\n",
      "9            3           0.05            5.603879\n",
      "10           3           0.05            4.190109\n",
      "11           3           0.05            5.459442\n",
      "12           3           0.05            5.535572\n",
      "13           3           0.05            5.344358\n",
      "14           3           0.05            5.169577\n",
      "15           3           0.05            3.431877\n",
      "16           3           0.05            3.714566\n",
      "17           3           0.05            3.434890\n",
      "18           3           0.05            4.167382\n",
      "19           3           0.05            4.235018\n",
      "20           3           0.15            6.276053\n",
      "21           3           0.15            4.234870\n",
      "22           3           0.15            5.650165\n",
      "23           3           0.15            4.156658\n",
      "24           3           0.15            4.146674\n",
      "25           3           0.15            4.854608\n",
      "26           3           0.15            5.054526\n",
      "27           3           0.15            4.909783\n",
      "28           3           0.15            4.526667\n",
      "29           3           0.15            5.250250\n",
      "..         ...            ...                 ...\n",
      "90           4           0.15            4.444245\n",
      "91           4           0.15            6.035168\n",
      "92           4           0.15            5.622845\n",
      "93           4           0.15            5.112918\n",
      "94           4           0.15            5.353951\n",
      "95           4           0.15            3.868385\n",
      "96           4           0.15            3.693823\n",
      "97           4           0.15            3.821641\n",
      "98           4           0.15            4.172477\n",
      "99           4           0.15            4.211108\n",
      "100          4           0.25            6.465038\n",
      "101          4           0.25            4.147850\n",
      "102          4           0.25            5.981483\n",
      "103          4           0.25            4.473767\n",
      "104          4           0.25            4.760530\n",
      "105          4           0.25            5.066857\n",
      "106          4           0.25            5.302448\n",
      "107          4           0.25            4.895325\n",
      "108          4           0.25            4.827413\n",
      "109          4           0.25            5.155694\n",
      "110          4           0.25            4.270562\n",
      "111          4           0.25            6.517265\n",
      "112          4           0.25            5.589363\n",
      "113          4           0.25            5.099320\n",
      "114          4           0.25            5.362106\n",
      "115          4           0.25            3.941927\n",
      "116          4           0.25            4.229358\n",
      "117          4           0.25            4.011369\n",
      "118          4           0.25            4.265670\n",
      "119          4           0.25            4.577897\n",
      "\n",
      "[120 rows x 3 columns]}\n"
     ]
    }
   ],
   "source": [
    "print(out)"
   ]
  },
  {
   "cell_type": "code",
   "execution_count": null,
   "metadata": {},
   "outputs": [],
   "source": [
    "#DecisionTreeRegressor\n",
    "clf_DTR = DecisionTreeRegressor()\n",
    "clf_DTR.fit(X_train, y_train)\n",
    "y_pred_DTR = clf_DTR.predict(X_val)\n",
    "#accuracy_DTR = clf_DTR.score(y_val,y_pred_DTR)\n",
    "mae_DTR = mean_absolute_error(y_val, y_pred_DTR)"
   ]
  },
  {
   "cell_type": "code",
   "execution_count": null,
   "metadata": {},
   "outputs": [],
   "source": [
    "# print('MAE Linear regression:', mae_linear)\n",
    "# print('MAE SVR:', mae_SVR)\n",
    "# print('MAE RFC:', mae_RFC)\n",
    "print('MAE XBG:', mae_XGB)\n",
    "# print('MAE DTR:', mae_DTR)"
   ]
  }
 ],
 "metadata": {
  "kernelspec": {
   "display_name": "Python 3",
   "language": "python",
   "name": "python3"
  },
  "language_info": {
   "codemirror_mode": {
    "name": "ipython",
    "version": 3
   },
   "file_extension": ".py",
   "mimetype": "text/x-python",
   "name": "python",
   "nbconvert_exporter": "python",
   "pygments_lexer": "ipython3",
   "version": "3.6.8"
  }
 },
 "nbformat": 4,
 "nbformat_minor": 2
}
